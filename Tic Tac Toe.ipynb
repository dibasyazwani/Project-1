{
 "cells": [
  {
   "cell_type": "markdown",
   "id": "c93f0644",
   "metadata": {},
   "source": [
    "# Create a Tic Tac Toe Game"
   ]
  },
  {
   "cell_type": "markdown",
   "id": "ffea568e",
   "metadata": {},
   "source": [
    "Step 1: Write a function that can print out a board. Set up your board as a list, where each index 1-9 corresponds with a number on a number pad get a 3x3 board representation."
   ]
  },
  {
   "cell_type": "code",
   "execution_count": 1,
   "id": "01f0adbe",
   "metadata": {},
   "outputs": [],
   "source": [
    "from IPython.display import clear_output\n",
    "\n",
    "def display_board(board):\n",
    "    \n",
    "    clear_output()\n",
    "    #If display_board(test_board) is called multiple times\n",
    "    #no history of the board will be displayed multiple times and ruin the 3x3 board\n",
    "\n",
    "    print('   |   |')\n",
    "    print(' ' + board[7] + ' | '+ board[8] + ' | '+ board[9])\n",
    "    print('   |   |')\n",
    "    print('-----------')\n",
    "    print('   |   |')\n",
    "    print(' ' + board[4] + ' | '+ board[5] + ' | '+ board[6])\n",
    "    print('   |   |')\n",
    "    print('-----------')\n",
    "    print('   |   |')\n",
    "    print(' ' + board[1] + ' | '+ board[2] + ' | '+ board[3])\n",
    "    print('   |   |')"
   ]
  },
  {
   "cell_type": "markdown",
   "id": "317875b9",
   "metadata": {},
   "source": [
    "TEST Step 1: run function on a test version of the board list"
   ]
  },
  {
   "cell_type": "code",
   "execution_count": 2,
   "id": "649e617f",
   "metadata": {},
   "outputs": [
    {
     "name": "stdout",
     "output_type": "stream",
     "text": [
      "   |   |\n",
      "   |   |  \n",
      "   |   |\n",
      "-----------\n",
      "   |   |\n",
      "   |   |  \n",
      "   |   |\n",
      "-----------\n",
      "   |   |\n",
      "   |   |  \n",
      "   |   |\n"
     ]
    }
   ],
   "source": [
    "test_board = [' ']*10\n",
    "display_board(test_board)"
   ]
  },
  {
   "cell_type": "code",
   "execution_count": 3,
   "id": "add4a5de",
   "metadata": {},
   "outputs": [
    {
     "name": "stdout",
     "output_type": "stream",
     "text": [
      "   |   |\n",
      " X | O | X\n",
      "   |   |\n",
      "-----------\n",
      "   |   |\n",
      " O | X | O\n",
      "   |   |\n",
      "-----------\n",
      "   |   |\n",
      " X | O | X\n",
      "   |   |\n"
     ]
    }
   ],
   "source": [
    "test_board = ['#','X','O','X','O','X','O','X','O','X']\n",
    "display_board(test_board)"
   ]
  },
  {
   "cell_type": "markdown",
   "id": "44d15181",
   "metadata": {},
   "source": [
    "Step 2: Write a function that can take in a player input and assign their marker as 'X' or 'O'. Use while loops to continually ask until you get a correct answer."
   ]
  },
  {
   "cell_type": "code",
   "execution_count": 4,
   "id": "c69fc27d",
   "metadata": {},
   "outputs": [],
   "source": [
    "def player_input():\n",
    "    \n",
    "    \"\"\"\n",
    "        OUTPUT = Player 1 marker, Player 2 marker\n",
    "\n",
    "    \"\"\"\n",
    "    #Output is in the form of tuple with player 1 marker, player 2 marker\n",
    "\n",
    "    marker = ''\n",
    "        \n",
    "    while marker!= 'X' and marker != 'O':\n",
    "        marker = input('Player 1: Choose X or O: ').upper()\n",
    "            \n",
    "    if marker == 'X':\n",
    "        return ('X','O')\n",
    "    else:\n",
    "        return('O','X')\n",
    "        "
   ]
  },
  {
   "cell_type": "markdown",
   "id": "86b15232",
   "metadata": {},
   "source": [
    "TEST Step 2: run the function to make sure it returns the desired output"
   ]
  },
  {
   "cell_type": "code",
   "execution_count": 6,
   "id": "d25e13fa",
   "metadata": {},
   "outputs": [
    {
     "name": "stdout",
     "output_type": "stream",
     "text": [
      "Player 1: Choose X or O: x\n"
     ]
    }
   ],
   "source": [
    "player1_marker, player2_marker = player_input()\n",
    "#When player 1 choose X, autimatically, player 2 is O"
   ]
  },
  {
   "cell_type": "code",
   "execution_count": 7,
   "id": "fbca955d",
   "metadata": {},
   "outputs": [
    {
     "data": {
      "text/plain": [
       "'O'"
      ]
     },
     "execution_count": 7,
     "metadata": {},
     "output_type": "execute_result"
    }
   ],
   "source": [
    "player2_marker\n",
    "#Since X as been chosen by player 1, call player 2 marker and it display O for player 2 marker"
   ]
  },
  {
   "cell_type": "markdown",
   "id": "66a9d664",
   "metadata": {},
   "source": [
    "Step 3: Write a function that takes in the board list object, a marker ('X' or 'O'), and a desired position (number 1-9) and assigns it to the board."
   ]
  },
  {
   "cell_type": "code",
   "execution_count": 8,
   "id": "1c40992e",
   "metadata": {},
   "outputs": [],
   "source": [
    "def place_marker(board, marker, position):\n",
    "    board[position] = marker"
   ]
  },
  {
   "cell_type": "markdown",
   "id": "b91afcee",
   "metadata": {},
   "source": [
    "TEST Step 3: run the place marker function using test parameters and display the modified board"
   ]
  },
  {
   "cell_type": "code",
   "execution_count": 9,
   "id": "7a57bd4f",
   "metadata": {},
   "outputs": [
    {
     "data": {
      "text/plain": [
       "['#', 'X', 'O', 'X', 'O', 'X', 'O', 'X', 'O', 'X']"
      ]
     },
     "execution_count": 9,
     "metadata": {},
     "output_type": "execute_result"
    }
   ],
   "source": [
    "test_board"
   ]
  },
  {
   "cell_type": "code",
   "execution_count": 10,
   "id": "4dcd6627",
   "metadata": {},
   "outputs": [
    {
     "name": "stdout",
     "output_type": "stream",
     "text": [
      "   |   |\n",
      " X | $ | X\n",
      "   |   |\n",
      "-----------\n",
      "   |   |\n",
      " O | X | O\n",
      "   |   |\n",
      "-----------\n",
      "   |   |\n",
      " X | O | X\n",
      "   |   |\n"
     ]
    }
   ],
   "source": [
    "place_marker(test_board,'$',8)\n",
    "display_board(test_board)"
   ]
  },
  {
   "cell_type": "markdown",
   "id": "080ac3aa",
   "metadata": {},
   "source": [
    "Step 4: Write a function that takes in a board and a mark (X or O) and then checks to see if that mark has won."
   ]
  },
  {
   "cell_type": "code",
   "execution_count": 13,
   "id": "1efe6ab3",
   "metadata": {},
   "outputs": [],
   "source": [
    "def win_check(board, mark):\n",
    "    #Check if win game\n",
    "    \n",
    "    #Across rows\n",
    "    return((board[1] == board[2] == board [3] == mark) or\n",
    "    (board[4] == board[5] == board [6] == mark) or\n",
    "    (board[7] == board[8] == board [9] == mark) or\n",
    "    \n",
    "    #Across columns\n",
    "    (board[1] == board[4] == board [7] == mark) or\n",
    "    (board[2] == board[5] == board [8] == mark) or\n",
    "    (board[3] == board[6] == board [9] == mark) or\n",
    "    \n",
    "    #Across diagonals\n",
    "    (board[1] == board[5] == board [9] == mark) or\n",
    "    (board[3] == board[5] == board [7] == mark)) "
   ]
  },
  {
   "cell_type": "markdown",
   "id": "b792b9ec",
   "metadata": {},
   "source": [
    "TEST Step 4: run the win_check function against our test_board - it should return True"
   ]
  },
  {
   "cell_type": "code",
   "execution_count": 16,
   "id": "e11a0135",
   "metadata": {},
   "outputs": [
    {
     "name": "stdout",
     "output_type": "stream",
     "text": [
      "   |   |\n",
      " X | $ | X\n",
      "   |   |\n",
      "-----------\n",
      "   |   |\n",
      " O | X | O\n",
      "   |   |\n",
      "-----------\n",
      "   |   |\n",
      " X | O | X\n",
      "   |   |\n"
     ]
    },
    {
     "data": {
      "text/plain": [
       "True"
      ]
     },
     "execution_count": 16,
     "metadata": {},
     "output_type": "execute_result"
    }
   ],
   "source": [
    "display_board(test_board)\n",
    "win_check(test_board,'X')"
   ]
  },
  {
   "cell_type": "markdown",
   "id": "d621452b",
   "metadata": {},
   "source": [
    "Step 5: Write a function that uses the random module to randomly decide which player goes first. Return a string of which player went first."
   ]
  },
  {
   "cell_type": "code",
   "execution_count": 17,
   "id": "8a633f6e",
   "metadata": {},
   "outputs": [],
   "source": [
    "import random\n",
    "\n",
    "def choose_first():\n",
    "    \n",
    "    flip = random.randint(0,1)\n",
    "    \n",
    "    if flip == 0:\n",
    "        return 'Player 1'\n",
    "    else:\n",
    "        return 'Player 2'\n",
    "    "
   ]
  },
  {
   "cell_type": "markdown",
   "id": "cfb8e20c",
   "metadata": {},
   "source": [
    "Step 6: Write a function that returns a boolean indicating whether a space on the board is freely available."
   ]
  },
  {
   "cell_type": "code",
   "execution_count": 18,
   "id": "37bb076c",
   "metadata": {},
   "outputs": [],
   "source": [
    "def space_check(board, position):\n",
    "    return board[position] == ' '"
   ]
  },
  {
   "cell_type": "markdown",
   "id": "d1f2a421",
   "metadata": {},
   "source": [
    "Step 7: Write a function that checks if the board is full and returns a boolean value. True if full, False otherwise."
   ]
  },
  {
   "cell_type": "code",
   "execution_count": 19,
   "id": "13d5b19a",
   "metadata": {},
   "outputs": [],
   "source": [
    "def full_board_check(board):\n",
    "    for i in range(1,10):\n",
    "        if space_check(board,i):\n",
    "            return False\n",
    "        \n",
    "    #Board is full, return True    \n",
    "    return True"
   ]
  },
  {
   "cell_type": "markdown",
   "id": "86c6ea8d",
   "metadata": {},
   "source": [
    "Step 8: Write a function that asks for a player's next position (as a number 1-9) and then uses the function from step 6 to check if it's a free position. If it is, then return the position for later use."
   ]
  },
  {
   "cell_type": "code",
   "execution_count": 20,
   "id": "fe4d84d8",
   "metadata": {},
   "outputs": [],
   "source": [
    "def player_choice(board):\n",
    "    \n",
    "    position = 0\n",
    "    \n",
    "    while position not in [1,2,3,4,5,6,7,8,9] or not space_check(board,position):\n",
    "        position = int(input('Choose a position (1-9): '))\n",
    "    \n",
    "    return position"
   ]
  },
  {
   "cell_type": "markdown",
   "id": "57c683bc",
   "metadata": {},
   "source": [
    "Step 9: Write a function that asks the player if they want to play again and returns a boolean True if they do want to play again."
   ]
  },
  {
   "cell_type": "code",
   "execution_count": 21,
   "id": "ed662192",
   "metadata": {},
   "outputs": [],
   "source": [
    "def replay():\n",
    "    \n",
    "    choice = input(\"Play again? Enter Yes or No \")\n",
    "    \n",
    "    return choice == 'Yes'"
   ]
  },
  {
   "cell_type": "markdown",
   "id": "fc4fd598",
   "metadata": {},
   "source": [
    "Step 10: Use while loops and the functions you've made to run the game."
   ]
  },
  {
   "cell_type": "code",
   "execution_count": null,
   "id": "3768f2f7",
   "metadata": {},
   "outputs": [
    {
     "name": "stdout",
     "output_type": "stream",
     "text": [
      "   |   |\n",
      "   |   | X\n",
      "   |   |\n",
      "-----------\n",
      "   |   |\n",
      " X | X | O\n",
      "   |   |\n",
      "-----------\n",
      "   |   |\n",
      " X | O | O\n",
      "   |   |\n",
      "PLAYER 1 HAS WON!\n"
     ]
    }
   ],
   "source": [
    "print('Welcome to Tic Tac Toe!')\n",
    "\n",
    "while True:\n",
    "    #Set the game up here\n",
    "    #Set everything up (board, who is first?, choose markers X or O)\n",
    "    the_board = [' ']*10\n",
    "    player1_marker,player2_market = player_input()\n",
    "    \n",
    "    turn = choose_first()\n",
    "    print(turn + ' will go first')\n",
    "    \n",
    "    play_game = input('Ready to play? Y or N ')\n",
    "    \n",
    "    if play_game == 'Y':\n",
    "        game_on = True\n",
    "    else:\n",
    "        game_on = False\n",
    "    \n",
    "    #Game play\n",
    "    while game_on:\n",
    "        \n",
    "        #Player 1 Turn\n",
    "        if turn == 'Player 1':\n",
    "        \n",
    "            #display the board\n",
    "            display_board(the_board)\n",
    "\n",
    "            #Choose a position\n",
    "            position = player_choice(the_board)\n",
    "\n",
    "            #Place the marker on the position\n",
    "            place_marker(the_board, player1_marker, position)\n",
    "\n",
    "            #Check if they won\n",
    "            if win_check(the_board, player1_marker):\n",
    "                display_board(the_board)\n",
    "                print('PLAYER 1 HAS WON!')\n",
    "                game_on = False\n",
    "            #Or check if it is a tie\n",
    "            else:\n",
    "                if full_board_check(the_board):\n",
    "                    display_board(the_board)\n",
    "                    print('GAME IS TIE!')\n",
    "                    game_on = False\n",
    "\n",
    "                #No tie or win? So, next player turn\n",
    "                else:\n",
    "                    turn = 'Player 2'\n",
    "        \n",
    "        \n",
    "        #Player2's turn.\n",
    "        else:   \n",
    "            \n",
    "            #display the board\n",
    "            display_board(the_board)\n",
    "\n",
    "            #Choose a position\n",
    "            position = player_choice(the_board)\n",
    "\n",
    "            #Place the marker on the position\n",
    "            place_marker(the_board, player2_marker, position)\n",
    "\n",
    "            #Check if they won\n",
    "            if win_check(the_board, player2_marker):\n",
    "                display_board(the_board)\n",
    "                print('PLAYER 2 HAS WON!')\n",
    "                game_on = False\n",
    "            #Or check if it is a tie\n",
    "            else:\n",
    "                if full_board_check(the_board):\n",
    "                    display_board(the_board)\n",
    "                    print('GAME IS TIE!')\n",
    "                    game_on = False\n",
    "\n",
    "                #No tie or win? So, next player turn\n",
    "                else:\n",
    "                    turn = 'Player 1'\n",
    "\n",
    "    if not replay():\n",
    "        break\n"
   ]
  }
 ],
 "metadata": {
  "kernelspec": {
   "display_name": "Python 3",
   "language": "python",
   "name": "python3"
  },
  "language_info": {
   "codemirror_mode": {
    "name": "ipython",
    "version": 3
   },
   "file_extension": ".py",
   "mimetype": "text/x-python",
   "name": "python",
   "nbconvert_exporter": "python",
   "pygments_lexer": "ipython3",
   "version": "3.8.8"
  }
 },
 "nbformat": 4,
 "nbformat_minor": 5
}
